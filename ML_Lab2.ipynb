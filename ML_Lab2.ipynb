{
  "nbformat": 4,
  "nbformat_minor": 0,
  "metadata": {
    "colab": {
      "name": "ML_Group12_Lab2.ipynb",
      "provenance": [],
      "collapsed_sections": []
    },
    "kernelspec": {
      "name": "python3",
      "display_name": "Python 3"
    },
    "language_info": {
      "name": "python"
    },
    "accelerator": "GPU"
  },
  "cells": [
    {
      "cell_type": "markdown",
      "metadata": {
        "id": "HUEV5HU_WMgl"
      },
      "source": [
        "TBC - To be changed"
      ]
    },
    {
      "cell_type": "code",
      "metadata": {
        "id": "ItxbmHDMJhrc"
      },
      "source": [
        "import numpy as np\n",
        "import os\n",
        "import PIL\n",
        "import PIL.Image\n",
        "import tensorflow as tf\n",
        "import tensorflow_datasets as tfds\n",
        "import pathlib\n",
        "from pathlib import Path\n",
        "from glob import glob\n",
        "from tensorflow.keras.preprocessing.image import load_img, img_to_array, smart_resize\n",
        "import matplotlib.pyplot as plt\n",
        "from sklearn.model_selection import train_test_split"
      ],
      "execution_count": null,
      "outputs": []
    },
    {
      "cell_type": "code",
      "metadata": {
        "colab": {
          "base_uri": "https://localhost:8080/"
        },
        "id": "GbSbb_S6LU5W",
        "outputId": "e7715604-0a56-4d03-c0af-5b7f8b7f10dc"
      },
      "source": [
        "from google.colab import drive\n",
        "drive.mount('/content/drive/',force_remount=True)\n",
        "data_dir = Path('/content/drive/MyDrive/SCCSem3/300/Lab2/Leaves/') #change the path here\n",
        "folders = [\"canker\",\"healthy\",\"greening\",\"blackspot\"]"
      ],
      "execution_count": null,
      "outputs": [
        {
          "output_type": "stream",
          "name": "stdout",
          "text": [
            "Mounted at /content/drive/\n"
          ]
        }
      ]
    },
    {
      "cell_type": "code",
      "metadata": {
        "id": "-uyPg3T1Ywpr"
      },
      "source": [
        "#important variables\n",
        "img_height = 128\n",
        "img_width = 128"
      ],
      "execution_count": null,
      "outputs": []
    },
    {
      "cell_type": "code",
      "metadata": {
        "id": "pZiN8BWMwe13"
      },
      "source": [
        "dir_paths = []\n",
        "dir_paths = [x[0] for x in os.walk(data_dir)]\n",
        "dir_paths = dir_paths[1:]"
      ],
      "execution_count": null,
      "outputs": []
    },
    {
      "cell_type": "code",
      "metadata": {
        "colab": {
          "base_uri": "https://localhost:8080/"
        },
        "id": "yFt0kfEor98D",
        "outputId": "0ec4836c-13fb-463c-df57-80f77ca22886"
      },
      "source": [
        "dir_paths"
      ],
      "execution_count": null,
      "outputs": [
        {
          "output_type": "execute_result",
          "data": {
            "text/plain": [
              "['/content/drive/MyDrive/SCCSem3/300/Lab2/Leaves/canker',\n",
              " '/content/drive/MyDrive/SCCSem3/300/Lab2/Leaves/healthy',\n",
              " '/content/drive/MyDrive/SCCSem3/300/Lab2/Leaves/greening',\n",
              " '/content/drive/MyDrive/SCCSem3/300/Lab2/Leaves/blackspot']"
            ]
          },
          "metadata": {},
          "execution_count": 30
        }
      ]
    },
    {
      "cell_type": "code",
      "metadata": {
        "id": "U4FwTi2RauqS"
      },
      "source": [
        "output = []\n",
        "labels = []\n",
        "\n",
        "def create_output():\n",
        "  for folder in folders:\n",
        "    path = os.path.join(data_dir, folder)\n",
        "    class_num = folders.index(folder)\n",
        "    for img in Path(path).iterdir():\n",
        "      current_img = load_img(os.path.join(path, img), target_size = (128,128), color_mode=\"grayscale\") # loading the images and resizing it in grayscale\n",
        "      num_image = img_to_array(current_img).reshape(128, -1) # converting images to numpy array\n",
        "      output.append(num_image)\n",
        "      labels.append(class_num)\n",
        "      finalarr = np.array(output)\n",
        "      labelarr = np.array(labels)\n",
        "  return (finalarr, labelarr)\n",
        "    "
      ],
      "execution_count": null,
      "outputs": []
    },
    {
      "cell_type": "code",
      "metadata": {
        "id": "24DU1Uss9fwj"
      },
      "source": [
        "op = create_output()"
      ],
      "execution_count": null,
      "outputs": []
    },
    {
      "cell_type": "code",
      "metadata": {
        "colab": {
          "base_uri": "https://localhost:8080/"
        },
        "id": "9nlsEZLxqx25",
        "outputId": "c24933ff-bc10-4620-df6e-60005aa0df1b"
      },
      "source": [
        "op[0].shape"
      ],
      "execution_count": null,
      "outputs": [
        {
          "output_type": "execute_result",
          "data": {
            "text/plain": [
              "(596, 128, 128)"
            ]
          },
          "metadata": {},
          "execution_count": 45
        }
      ]
    },
    {
      "cell_type": "code",
      "metadata": {
        "id": "U-2-UNbPrmRS",
        "colab": {
          "base_uri": "https://localhost:8080/",
          "height": 268
        },
        "outputId": "3d55e923-ef71-4ff5-b53b-e427dfc8ce1d"
      },
      "source": [
        "plt.imshow(op[0][1], cmap = \"gray\")\n",
        "plt.show()"
      ],
      "execution_count": null,
      "outputs": [
        {
          "output_type": "display_data",
          "data": {
            "image/png": "[encoded data removed]",
            "text/plain": [
              "<Figure size 432x288 with 1 Axes>"
            ]
          },
          "metadata": {
            "needs_background": "light"
          }
        }
      ]
    },
    {
      "cell_type": "code",
      "metadata": {
        "id": "qo6cXx4UeYJJ"
      },
      "source": [
        "def splitData(XSet, YSet):\n",
        "\n",
        "  train_ratio = 0.70\n",
        "  validation_ratio = 0.20\n",
        "  test_ratio = 0.10\n",
        "\n",
        "  ratios = {}\n",
        "\n",
        "  # train is now 75% of the entire data set\n",
        "  # the _junk suffix means that we drop that variable completely\n",
        "  x_train, x_test, y_train, y_test = train_test_split(XSet, YSet, stratify = YSet, test_size=1 - train_ratio)\n",
        "\n",
        "  # test is now 10% of the initial data set\n",
        "  # validation is now 15% of the initial data set\n",
        "  x_val, x_test, y_val, y_test = train_test_split(x_test, y_test, stratify = y_test, test_size=test_ratio/(test_ratio + validation_ratio)) \n",
        "\n",
        "  ratios[\"train\"] = (x_train, y_train)\n",
        "  ratios[\"val\"] = (x_val, y_val)\n",
        "  ratios[\"test\"] = (x_test, y_test)\n",
        "\n",
        "  \n",
        "  return ratios\n"
      ],
      "execution_count": null,
      "outputs": []
    },
    {
      "cell_type": "code",
      "metadata": {
        "id": "lo1Eo3af0Lba"
      },
      "source": [
        "dsets = splitData(op[0],op[1])"
      ],
      "execution_count": null,
      "outputs": []
    },
    {
      "cell_type": "code",
      "metadata": {
        "colab": {
          "base_uri": "https://localhost:8080/"
        },
        "id": "9qJFfrL40PmB",
        "outputId": "7a03556a-15e0-413f-f545-f72f552b6160"
      },
      "source": [
        "print(dsets[\"val\"][1].shape)"
      ],
      "execution_count": null,
      "outputs": [
        {
          "output_type": "stream",
          "name": "stdout",
          "text": [
            "(119,)\n"
          ]
        }
      ]
    },
    {
      "cell_type": "code",
      "metadata": {
        "colab": {
          "base_uri": "https://localhost:8080/"
        },
        "id": "NwUfF7Gf8xkA",
        "outputId": "916ba44f-bb05-475e-a3b9-5d82855661d7"
      },
      "source": [
        "(unique, counts) = np.unique(dsets[\"train\"][1], return_counts=True)\n",
        "\n",
        "print(counts/417)"
      ],
      "execution_count": null,
      "outputs": [
        {
          "output_type": "stream",
          "name": "stdout",
          "text": [
            "[0.27338129 0.09592326 0.34292566 0.28776978]\n"
          ]
        }
      ]
    },
    {
      "cell_type": "code",
      "metadata": {
        "colab": {
          "base_uri": "https://localhost:8080/"
        },
        "id": "nYZmCnb6B6NR",
        "outputId": "5dd0e4b2-a8d0-45b6-c643-352d6a33afc0"
      },
      "source": [
        "print(dsets[\"test\"][1].shape)"
      ],
      "execution_count": null,
      "outputs": [
        {
          "output_type": "stream",
          "name": "stdout",
          "text": [
            "(60,)\n"
          ]
        }
      ]
    },
    {
      "cell_type": "code",
      "metadata": {
        "colab": {
          "base_uri": "https://localhost:8080/"
        },
        "id": "yf7bxrvvB8d_",
        "outputId": "212a36cc-4ef1-4044-c26b-e9cdbc785511"
      },
      "source": [
        "(unique, counts) = np.unique(dsets[\"test\"][1], return_counts=True)\n",
        "\n",
        "print(counts/60)"
      ],
      "execution_count": null,
      "outputs": [
        {
          "output_type": "stream",
          "name": "stdout",
          "text": [
            "[0.26666667 0.1        0.35       0.28333333]\n"
          ]
        }
      ]
    },
    {
      "cell_type": "code",
      "metadata": {
        "id": "h9HQoPU1B9md"
      },
      "source": [
        "train_images_n = dsets[\"train\"][0]\n",
        "test_images_n = dsets[\"test\"][0]\n",
        "valid_images_n = dsets[\"val\"][0]\n",
        "train_labels_n = dsets[\"train\"][1]\n",
        "test_labels_n = dsets[\"test\"][1]\n",
        "valid_labels_n = dsets[\"val\"][1]"
      ],
      "execution_count": null,
      "outputs": []
    },
    {
      "cell_type": "code",
      "metadata": {
        "id": "8QLi8JZuCXwA"
      },
      "source": [
        "train_images_n = train_images_n.astype('float32') / 255\n",
        "train_images_n = train_images_n.reshape((417, 128 * 128))\n",
        "\n",
        "test_images_n = test_images_n.astype('float32') / 255\n",
        "test_images_n = test_images_n.reshape((60, 128 * 128))\n",
        "\n",
        "valid_images_n = valid_images_n.astype('float32') / 255\n",
        "valid_images_n = valid_images_n.reshape((119, 128 * 128))"
      ],
      "execution_count": null,
      "outputs": []
    },
    {
      "cell_type": "code",
      "metadata": {
        "id": "JGRyFYRaCaPY"
      },
      "source": [
        "from tensorflow.keras.utils import to_categorical\n",
        "\n",
        "train_labels_n = to_categorical(train_labels_n)\n",
        "test_labels_n = to_categorical(test_labels_n)\n",
        "valid_labels_n = to_categorical(valid_labels_n)"
      ],
      "execution_count": null,
      "outputs": []
    },
    {
      "cell_type": "code",
      "metadata": {
        "id": "mJi1WZ14CcK6"
      },
      "source": [
        "from tensorflow.keras.models import Sequential\n",
        "from tensorflow.keras.layers import Dense\n",
        "\n",
        "\n",
        "network = Sequential()\n",
        "network.add(Dense(512, activation='relu', input_shape=(128 * 128,)))\n",
        "network.add(Dense(4, activation='softmax'))"
      ],
      "execution_count": null,
      "outputs": []
    },
    {
      "cell_type": "code",
      "metadata": {
        "id": "j7Z-IHuqDmgt"
      },
      "source": [
        "network.compile(optimizer='adam',\n",
        "                loss='categorical_crossentropy',\n",
        "                metrics=['accuracy'])"
      ],
      "execution_count": null,
      "outputs": []
    },
    {
      "cell_type": "code",
      "metadata": {
        "colab": {
          "base_uri": "https://localhost:8080/"
        },
        "id": "jGAW00N2DopB",
        "outputId": "03e815a8-8211-4b0b-9548-9bedc4bfca39"
      },
      "source": [
        "historynn = network.fit(train_images_n, train_labels_n,validation_data=(valid_images_n,valid_labels_n), epochs=20, batch_size=128, verbose=1)\n",
        "\n",
        "test_loss, test_acc = network.evaluate(test_images_n, test_labels_n)\n",
        "\n",
        "print('test_acc:', test_acc)"
      ],
      "execution_count": null,
      "outputs": [
        {
          "output_type": "stream",
          "name": "stdout",
          "text": [
            "Epoch 1/20\n",
            "4/4 [==============================] - 0s 35ms/step - loss: 1.3050 - accuracy: 0.3429 - val_loss: 1.3115 - val_accuracy: 0.3361\n",
            "Epoch 2/20\n",
            "4/4 [==============================] - 0s 22ms/step - loss: 1.3049 - accuracy: 0.3429 - val_loss: 1.3115 - val_accuracy: 0.3361\n",
            "Epoch 3/20\n",
            "4/4 [==============================] - 0s 20ms/step - loss: 1.3050 - accuracy: 0.3429 - val_loss: 1.3117 - val_accuracy: 0.3361\n",
            "Epoch 4/20\n",
            "4/4 [==============================] - 0s 22ms/step - loss: 1.3049 - accuracy: 0.3429 - val_loss: 1.3118 - val_accuracy: 0.3361\n",
            "Epoch 5/20\n",
            "4/4 [==============================] - 0s 22ms/step - loss: 1.3051 - accuracy: 0.3429 - val_loss: 1.3119 - val_accuracy: 0.3361\n",
            "Epoch 6/20\n",
            "4/4 [==============================] - 0s 22ms/step - loss: 1.3050 - accuracy: 0.3429 - val_loss: 1.3119 - val_accuracy: 0.3361\n",
            "Epoch 7/20\n",
            "4/4 [==============================] - 0s 20ms/step - loss: 1.3049 - accuracy: 0.3429 - val_loss: 1.3117 - val_accuracy: 0.3361\n",
            "Epoch 8/20\n",
            "4/4 [==============================] - 0s 23ms/step - loss: 1.3049 - accuracy: 0.3429 - val_loss: 1.3117 - val_accuracy: 0.3361\n",
            "Epoch 9/20\n",
            "4/4 [==============================] - 0s 21ms/step - loss: 1.3051 - accuracy: 0.3429 - val_loss: 1.3117 - val_accuracy: 0.3361\n",
            "Epoch 10/20\n",
            "4/4 [==============================] - 0s 24ms/step - loss: 1.3049 - accuracy: 0.3429 - val_loss: 1.3117 - val_accuracy: 0.3361\n",
            "Epoch 11/20\n",
            "4/4 [==============================] - 0s 22ms/step - loss: 1.3049 - accuracy: 0.3429 - val_loss: 1.3116 - val_accuracy: 0.3361\n",
            "Epoch 12/20\n",
            "4/4 [==============================] - 0s 23ms/step - loss: 1.3048 - accuracy: 0.3429 - val_loss: 1.3116 - val_accuracy: 0.3361\n",
            "Epoch 13/20\n",
            "4/4 [==============================] - 0s 23ms/step - loss: 1.3047 - accuracy: 0.3429 - val_loss: 1.3116 - val_accuracy: 0.3361\n",
            "Epoch 14/20\n",
            "4/4 [==============================] - 0s 23ms/step - loss: 1.3047 - accuracy: 0.3429 - val_loss: 1.3115 - val_accuracy: 0.3361\n",
            "Epoch 15/20\n",
            "4/4 [==============================] - 0s 20ms/step - loss: 1.3047 - accuracy: 0.3429 - val_loss: 1.3115 - val_accuracy: 0.3361\n",
            "Epoch 16/20\n",
            "4/4 [==============================] - 0s 22ms/step - loss: 1.3046 - accuracy: 0.3429 - val_loss: 1.3115 - val_accuracy: 0.3361\n",
            "Epoch 17/20\n",
            "4/4 [==============================] - 0s 20ms/step - loss: 1.3047 - accuracy: 0.3429 - val_loss: 1.3116 - val_accuracy: 0.3361\n",
            "Epoch 18/20\n",
            "4/4 [==============================] - 0s 21ms/step - loss: 1.3048 - accuracy: 0.3429 - val_loss: 1.3117 - val_accuracy: 0.3361\n",
            "Epoch 19/20\n",
            "4/4 [==============================] - 0s 22ms/step - loss: 1.3049 - accuracy: 0.3429 - val_loss: 1.3118 - val_accuracy: 0.3361\n",
            "Epoch 20/20\n",
            "4/4 [==============================] - 0s 20ms/step - loss: 1.3049 - accuracy: 0.3429 - val_loss: 1.3120 - val_accuracy: 0.3361\n",
            "2/2 [==============================] - 0s 10ms/step - loss: 1.3074 - accuracy: 0.3500\n",
            "test_acc: 0.3499999940395355\n"
          ]
        }
      ]
    },
    {
      "cell_type": "code",
      "metadata": {
        "colab": {
          "base_uri": "https://localhost:8080/"
        },
        "id": "4bS1pxGjDq6U",
        "outputId": "dae31f0c-3d71-4119-c089-e577b864ccfe"
      },
      "source": [
        "import tensorflow as tf\n",
        "from sklearn.metrics import confusion_matrix\n",
        "results = network.predict(test_images_n)\n",
        "predicted_categories = tf.argmax(results, axis=1)\n",
        "confusion_matrix(predicted_categories, test_labels_n.nonzero()[1])"
      ],
      "execution_count": null,
      "outputs": [
        {
          "output_type": "execute_result",
          "data": {
            "text/plain": [
              "array([[ 0,  0,  0,  0],\n",
              "       [ 0,  0,  0,  0],\n",
              "       [16,  6, 21, 17],\n",
              "       [ 0,  0,  0,  0]])"
            ]
          },
          "metadata": {},
          "execution_count": 77
        }
      ]
    },
    {
      "cell_type": "code",
      "metadata": {
        "id": "FuvBkwq9GZ2k"
      },
      "source": [
        ""
      ],
      "execution_count": null,
      "outputs": []
    }
  ]
}